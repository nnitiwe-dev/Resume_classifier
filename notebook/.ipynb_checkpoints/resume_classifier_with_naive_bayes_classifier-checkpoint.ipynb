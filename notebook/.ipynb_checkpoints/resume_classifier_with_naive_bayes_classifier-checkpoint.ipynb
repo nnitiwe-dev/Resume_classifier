{
 "cells": [
  {
   "cell_type": "markdown",
   "metadata": {},
   "source": [
    "# Resume Classifier with Naive Bayes Classifier\n",
    "<p>According to <b><a href=\"https://careers.workopolis.com/\">Workopolis</a></b>, Employers receive averagely between 75 and 250 applications per job posting. This can make it difficult and stressful to identify qualified candidates. In order to avoid having to read through the entire pile of resumes, most employers use applicant tracking systems (ATS).<br></p>\n",
    "<p>Applicant tracking system software ranks each applicant based on how well their resume scores based on the job description. In this project, I work with a Dataset to build a model that screens resumes and can be practically used in companies.</p>"
   ]
  },
  {
   "cell_type": "code",
   "execution_count": 8,
   "metadata": {},
   "outputs": [],
   "source": [
    "#Install Packages if not already installed\n",
    "#!pip install nltk\n",
    "#!pip install gensim\n",
    "#!pip install wordcloud\n",
    "\n",
    "\n",
    "#Import libaries\n",
    "import pandas as pd\n",
    "import numpy as np\n",
    "import matplotlib.pyplot as plt\n",
    "import seaborn as sns\n",
    "from wordcloud import WordCloud, STOPWORDS\n",
    "import nltk\n",
    "from nltk.stem import PorterStemmer, WordNetLemmatizer\n",
    "from nltk.corpus import stopwords\n",
    "from nltk.tokenize import word_tokenize, sent_tokenize\n",
    "import gensim\n",
    "from gensim.utils import simple_preprocess\n",
    "from gensim.parsing.preprocessing import STOPWORDS\n",
    "from sklearn.metrics import classification_report, confusion_matrix"
   ]
  },
  {
   "attachments": {},
   "cell_type": "markdown",
   "metadata": {},
   "source": [
    "## Import Data\n",
    "\n",
    "CSV Structure:\n",
    "\n",
    "\n",
    "|resume_id|class|resume_text|\n",
    "| :-| :- | :-|\n",
    "|resume_1|not_flagged|Customer Service Supervisor/Tier -...|\n",
    "| ... | ... | ... |\n",
    "\n",
    "**resume_id** -Candidate CV ID <br>\n",
    "**class** - Target Feature( indicates if the Candidate was invited for an interview or not).<br>\n",
    "**resume_text** -Resume text content scrapped file each file\n"
   ]
  },
  {
   "cell_type": "code",
   "execution_count": null,
   "metadata": {},
   "outputs": [],
   "source": []
  }
 ],
 "metadata": {
  "kernelspec": {
   "display_name": "Python 3",
   "language": "python",
   "name": "python3"
  },
  "language_info": {
   "codemirror_mode": {
    "name": "ipython",
    "version": 3
   },
   "file_extension": ".py",
   "mimetype": "text/x-python",
   "name": "python",
   "nbconvert_exporter": "python",
   "pygments_lexer": "ipython3",
   "version": "3.8.5"
  }
 },
 "nbformat": 4,
 "nbformat_minor": 4
}
